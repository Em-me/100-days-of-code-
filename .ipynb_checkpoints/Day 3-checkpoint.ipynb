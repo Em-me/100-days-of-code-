{
 "cells": [
  {
   "cell_type": "code",
   "execution_count": 2,
   "id": "78081f84",
   "metadata": {},
   "outputs": [
    {
     "name": "stdout",
     "output_type": "stream",
     "text": [
      "continue\n"
     ]
    }
   ],
   "source": [
    "#if else \n",
    "water_level = 50\n",
    "if water_level > 80:\n",
    "    print(\"Drain the water\")\n",
    "else:\n",
    "        print(\"continue\")"
   ]
  },
  {
   "cell_type": "code",
   "execution_count": 8,
   "id": "1158ca8d",
   "metadata": {
    "scrolled": true
   },
   "outputs": [
    {
     "name": "stdout",
     "output_type": "stream",
     "text": [
      "Welcome to the rollercoaster.\n",
      "What is your height in cms\n",
      "115\n",
      "Dont take ticket\n"
     ]
    }
   ],
   "source": [
    "#rollercoaster\n",
    "print(\"Welcome to the rollercoaster.\")\n",
    "height = input(\"What is your height in cms\\n\")\n",
    "if int(height) > 120:\n",
    "    print(\"Take ticket\")\n",
    "else:\n",
    "    print(\"Dont take ticket\")\n"
   ]
  },
  {
   "cell_type": "code",
   "execution_count": 13,
   "id": "b924d138",
   "metadata": {},
   "outputs": [
    {
     "name": "stdout",
     "output_type": "stream",
     "text": [
      "Which number do you want to check?\n",
      "107\n",
      "This is an odd number\n"
     ]
    }
   ],
   "source": [
    "7 % 2\n",
    "number = int(input(\"Which number do you want to check?\\n\"))\n",
    "if number % 2 ==0:\n",
    "    print(\"This is an even number\")\n",
    "else:\n",
    "    print(\"This is an odd number\")"
   ]
  },
  {
   "cell_type": "code",
   "execution_count": 37,
   "id": "b1eab237",
   "metadata": {},
   "outputs": [
    {
     "name": "stdout",
     "output_type": "stream",
     "text": [
      "Welcome to the rollercoaster.\n",
      "What is your height in cms\n",
      "134\n",
      "Take ticket\n",
      "What is your age?13\n",
      "Your ticket costs $7\n"
     ]
    }
   ],
   "source": [
    "print(\"Welcome to the rollercoaster.\")\n",
    "height = int(input(\"What is your height in cms\\n\"))\n",
    "if (height) > 120:\n",
    "    print(\"Take ticket\")\n",
    "    age = int(input(\"What is your age?\"))\n",
    "    if (age) < 12:\n",
    "        print(\"Your ticket costs $5\")\n",
    "    elif(age) < 18:\n",
    "        print(\"Your ticket costs $7\")\n",
    "    else:\n",
    "        print(\"Your ticket costs $5\")\n",
    "else:\n",
    "    print(\"Dont take ticket\")\n"
   ]
  },
  {
   "cell_type": "code",
   "execution_count": 47,
   "id": "19843cb8",
   "metadata": {},
   "outputs": [
    {
     "name": "stdout",
     "output_type": "stream",
     "text": [
      "What is your height in metres?\n",
      "1.7\n",
      "What is your weight is kgs?\n",
      "105\n",
      "36\n",
      "Clinically obese\n"
     ]
    }
   ],
   "source": [
    "height = float(input(\"What is your height in metres?\\n\"))\n",
    "weight = float(input(\"What is your weight is kgs?\\n\"))\n",
    "BMI = round(weight / (height**2))\n",
    "print(BMI)\n",
    "if BMI < 18.5:\n",
    "    print(\"underweight\")\n",
    "elif BMI < 25:\n",
    "    print(\"Normal weight\")\n",
    "elif BMI < 30:\n",
    "    print(\"Overweight\")\n",
    "elif BMI < 35:\n",
    "    print(\"Obese\")\n",
    "else:\n",
    "    print(\"Clinically obese\")"
   ]
  },
  {
   "cell_type": "code",
   "execution_count": null,
   "id": "555ef3b9",
   "metadata": {},
   "outputs": [],
   "source": []
  }
 ],
 "metadata": {
  "kernelspec": {
   "display_name": "Python 3 (ipykernel)",
   "language": "python",
   "name": "python3"
  },
  "language_info": {
   "codemirror_mode": {
    "name": "ipython",
    "version": 3
   },
   "file_extension": ".py",
   "mimetype": "text/x-python",
   "name": "python",
   "nbconvert_exporter": "python",
   "pygments_lexer": "ipython3",
   "version": "3.9.13"
  }
 },
 "nbformat": 4,
 "nbformat_minor": 5
}
